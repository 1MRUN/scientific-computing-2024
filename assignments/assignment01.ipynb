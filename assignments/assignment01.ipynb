{
 "cells": [
  {
   "metadata": {},
   "cell_type": "markdown",
   "source": [
    "## Scientific Computing\n",
    "### Assignment 1\n",
    "[Software, Data and\n",
    "Technology](https://lp.jetbrains.com/software-data-and-technology-constructor-university/) bachelor program at [Constructor\n",
    "University](https://constructor.university) (Bremen)."
   ],
   "id": "9a3d195367cb55fd"
  },
  {
   "metadata": {},
   "cell_type": "markdown",
   "source": [
    "### Task 1 (1 point)\n",
    "Create a new PyCharm project with a new `conda` environment entitled `scientific-computing`. Install the following packages into your environment: `numpy`, `scipy`, `matplotlib`, `seaborn`, `plotly`. Export the environment to a `environment.yml` file. Commit the `environment.yml` file to your repository."
   ],
   "id": "2effb5ac5c38e909"
  },
  {
   "metadata": {},
   "cell_type": "markdown",
   "source": [
    "### Task 2 (1 point)\n",
    "Create a new Jupyter notebook in your PyCharm project. In this notebook, print `sys.executable` to check that the interpreter from your environment is used. Use `%conda info` command to check the name of the current environment and its location. The name should be `scientific-computing` and your `sys.executable` should be located inside the *active env location* directory reported by `%conda info`."
   ],
   "id": "110ed4754cd20466"
  },
  {
   "metadata": {},
   "cell_type": "markdown",
   "source": [
    "### Task 3 (1 point)\n",
    "Implement any function and put it into a separate Python file. Import this function into your Jupyter notebook and use it to demonstrate that the function works as expected. "
   ],
   "id": "f9c961bc32244949"
  },
  {
   "metadata": {},
   "cell_type": "markdown",
   "source": [
    "### Task 4 (1 points + 1 bonus point)\n",
    "Plot any function of your choice using `matplotlib.pyplot.plot`. Bonus point for plotting in polar coordinates: find a way to do it without searching the internet and using AI. To do it, you do not need to know anything specific except of how `matplotlib.pyplot.plot` works and basic math."
   ],
   "id": "ec8acb454253552f"
  }
 ],
 "metadata": {
  "kernelspec": {
   "display_name": "Python 3",
   "language": "python",
   "name": "python3"
  },
  "language_info": {
   "codemirror_mode": {
    "name": "ipython",
    "version": 2
   },
   "file_extension": ".py",
   "mimetype": "text/x-python",
   "name": "python",
   "nbconvert_exporter": "python",
   "pygments_lexer": "ipython2",
   "version": "2.7.6"
  }
 },
 "nbformat": 4,
 "nbformat_minor": 5
}
